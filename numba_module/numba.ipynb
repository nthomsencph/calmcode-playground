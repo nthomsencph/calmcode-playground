{
 "cells": [
  {
   "cell_type": "code",
   "execution_count": 1,
   "source": [
    "import numba as nb\n",
    "import time"
   ],
   "outputs": [],
   "metadata": {}
  },
  {
   "cell_type": "code",
   "execution_count": 11,
   "source": [
    "def func_one(n):\n",
    "    result = 0\n",
    "    for i in range(n):\n",
    "        squared = n * n\n",
    "        result += squared\n",
    "    return result\n",
    "\n",
    "def func_two(n):\n",
    "    result = 0\n",
    "    squared = n * n\n",
    "    for i in range(n):\n",
    "        result += squared\n",
    "    return result"
   ],
   "outputs": [],
   "metadata": {}
  },
  {
   "cell_type": "code",
   "execution_count": 12,
   "source": [
    "%%timeit\n",
    "func_one(100000)"
   ],
   "outputs": [
    {
     "output_type": "stream",
     "name": "stdout",
     "text": [
      "7.14 ms ± 536 µs per loop (mean ± std. dev. of 7 runs, 100 loops each)\n"
     ]
    }
   ],
   "metadata": {}
  },
  {
   "cell_type": "code",
   "execution_count": 13,
   "source": [
    "%%timeit\n",
    "func_two(100000)"
   ],
   "outputs": [
    {
     "output_type": "stream",
     "name": "stdout",
     "text": [
      "4.31 ms ± 220 µs per loop (mean ± std. dev. of 7 runs, 100 loops each)\n"
     ]
    }
   ],
   "metadata": {}
  },
  {
   "cell_type": "code",
   "execution_count": 2,
   "source": [
    "@nb.njit\n",
    "def func_one(n):\n",
    "    result = 0\n",
    "    for i in range(n):\n",
    "        squared = n * n\n",
    "        result += squared\n",
    "    return result\n",
    "\n",
    "@nb.njit\n",
    "def func_two(n):\n",
    "    result = 0\n",
    "    squared = n * n\n",
    "    for i in range(n):\n",
    "        result += squared\n",
    "    return result"
   ],
   "outputs": [],
   "metadata": {}
  },
  {
   "cell_type": "code",
   "execution_count": 3,
   "source": [
    "%%timeit\n",
    "func_one(100000)"
   ],
   "outputs": [
    {
     "output_type": "stream",
     "name": "stdout",
     "text": [
      "124 ns ± 2.76 ns per loop (mean ± std. dev. of 7 runs, 10000000 loops each)\n"
     ]
    }
   ],
   "metadata": {}
  },
  {
   "cell_type": "code",
   "execution_count": 16,
   "source": [
    "%%timeit\n",
    "func_two(100000)"
   ],
   "outputs": [
    {
     "output_type": "stream",
     "name": "stdout",
     "text": [
      "141 ns ± 8.39 ns per loop (mean ± std. dev. of 7 runs, 10000000 loops each)\n"
     ]
    }
   ],
   "metadata": {}
  },
  {
   "cell_type": "code",
   "execution_count": 4,
   "source": [
    "start = time.time()\n",
    "func_two(1000)\n",
    "time.time() - start"
   ],
   "outputs": [
    {
     "output_type": "execute_result",
     "data": {
      "text/plain": [
       "0.04334688186645508"
      ]
     },
     "metadata": {},
     "execution_count": 4
    }
   ],
   "metadata": {}
  },
  {
   "cell_type": "code",
   "execution_count": 5,
   "source": [
    "start = time.time()\n",
    "func_two(1000)\n",
    "time.time() - start"
   ],
   "outputs": [
    {
     "output_type": "execute_result",
     "data": {
      "text/plain": [
       "6.961822509765625e-05"
      ]
     },
     "metadata": {},
     "execution_count": 5
    }
   ],
   "metadata": {}
  },
  {
   "cell_type": "markdown",
   "source": [
    "***"
   ],
   "metadata": {}
  },
  {
   "cell_type": "code",
   "execution_count": 8,
   "source": [
    "import numpy as np\n",
    "\n",
    "@nb.njit()\n",
    "def hypot_n(x, y):\n",
    "    return (x**2 + y**2)**0.5\n",
    "\n",
    "@nb.njit(parallel=True, fastmath=True)\n",
    "def hypot_p(x, y):\n",
    "    return (x**2 + y**2)**0.5\n",
    "\n",
    "r1 = np.random.random(size=(2000, 2000))\n",
    "r2 = np.random.random(size=(2000, 2000))\n",
    "\n",
    "# We will call both functions once to compile them.\n",
    "hypot_n(r1, r2); hypot_p(r1, r2);"
   ],
   "outputs": [],
   "metadata": {}
  },
  {
   "cell_type": "code",
   "execution_count": 9,
   "source": [
    "%timeit hypot_n(r1, r2)"
   ],
   "outputs": [
    {
     "output_type": "stream",
     "name": "stdout",
     "text": [
      "6.81 ms ± 184 µs per loop (mean ± std. dev. of 7 runs, 100 loops each)\n"
     ]
    }
   ],
   "metadata": {}
  },
  {
   "cell_type": "code",
   "execution_count": 10,
   "source": [
    "%timeit (r1 ** 2 + r2 ** 2)**0.5"
   ],
   "outputs": [
    {
     "output_type": "stream",
     "name": "stdout",
     "text": [
      "20.3 ms ± 577 µs per loop (mean ± std. dev. of 7 runs, 10 loops each)\n"
     ]
    }
   ],
   "metadata": {}
  },
  {
   "cell_type": "code",
   "execution_count": 11,
   "source": [
    "%timeit hypot_p(r1, r2)"
   ],
   "outputs": [
    {
     "output_type": "stream",
     "name": "stdout",
     "text": [
      "4.51 ms ± 2.35 ms per loop (mean ± std. dev. of 7 runs, 100 loops each)\n"
     ]
    }
   ],
   "metadata": {}
  },
  {
   "cell_type": "markdown",
   "source": [
    "***"
   ],
   "metadata": {}
  },
  {
   "cell_type": "code",
   "execution_count": 12,
   "source": [
    "from numba import float64\n",
    "\n",
    "float64[:, :](float64[:, :], float64[:, :])"
   ],
   "outputs": [
    {
     "output_type": "execute_result",
     "data": {
      "text/plain": [
       "(array(float64, 2d, A), array(float64, 2d, A)) -> array(float64, 2d, A)"
      ]
     },
     "metadata": {},
     "execution_count": 12
    }
   ],
   "metadata": {}
  },
  {
   "cell_type": "code",
   "execution_count": 17,
   "source": [
    "@nb.njit(float64[:, :](float64[:, :], float64[:, :]), parallel=True, fastmath=True)\n",
    "def hypot_t(x, y):\n",
    "    return (x**2 + y**2)**0.5"
   ],
   "outputs": [],
   "metadata": {}
  },
  {
   "cell_type": "code",
   "execution_count": 18,
   "source": [
    "%timeit hypot_t(r1, r2)"
   ],
   "outputs": [
    {
     "output_type": "stream",
     "name": "stdout",
     "text": [
      "3.21 ms ± 214 µs per loop (mean ± std. dev. of 7 runs, 100 loops each)\n"
     ]
    }
   ],
   "metadata": {}
  }
 ],
 "metadata": {
  "orig_nbformat": 4,
  "language_info": {
   "name": "python",
   "version": "3.8.11",
   "mimetype": "text/x-python",
   "codemirror_mode": {
    "name": "ipython",
    "version": 3
   },
   "pygments_lexer": "ipython3",
   "nbconvert_exporter": "python",
   "file_extension": ".py"
  },
  "kernelspec": {
   "name": "python3",
   "display_name": "Python 3.8.11 64-bit ('calmcode': conda)"
  },
  "interpreter": {
   "hash": "1e68bac4bcd0bfd7201d92b45884a6180c40a81991b089cb7df07f62222ab7ee"
  }
 },
 "nbformat": 4,
 "nbformat_minor": 2
}
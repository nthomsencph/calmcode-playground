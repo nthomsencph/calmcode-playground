{
 "cells": [
  {
   "cell_type": "code",
   "execution_count": 87,
   "source": [
    "import pathlib\n",
    "import json"
   ],
   "outputs": [],
   "metadata": {}
  },
  {
   "cell_type": "code",
   "execution_count": 88,
   "source": [
    "p = pathlib.Path(\"settings\", \"config.json\")\n",
    "p.exists()"
   ],
   "outputs": [
    {
     "output_type": "execute_result",
     "data": {
      "text/plain": [
       "True"
      ]
     },
     "metadata": {},
     "execution_count": 88
    }
   ],
   "metadata": {}
  },
  {
   "cell_type": "code",
   "execution_count": 89,
   "source": [
    "d = json.loads(p.read_text())\n",
    "d"
   ],
   "outputs": [
    {
     "output_type": "execute_result",
     "data": {
      "text/plain": [
       "{'setting': 'a', 'config': 'b'}"
      ]
     },
     "metadata": {},
     "execution_count": 89
    }
   ],
   "metadata": {}
  },
  {
   "cell_type": "code",
   "execution_count": 90,
   "source": [
    "p.parts"
   ],
   "outputs": [
    {
     "output_type": "execute_result",
     "data": {
      "text/plain": [
       "('settings', 'config.json')"
      ]
     },
     "metadata": {},
     "execution_count": 90
    }
   ],
   "metadata": {}
  },
  {
   "cell_type": "code",
   "execution_count": 91,
   "source": [
    "p.is_dir, p.is_file"
   ],
   "outputs": [
    {
     "output_type": "execute_result",
     "data": {
      "text/plain": [
       "(<bound method Path.is_dir of PosixPath('settings/config.json')>,\n",
       " <bound method Path.is_file of PosixPath('settings/config.json')>)"
      ]
     },
     "metadata": {},
     "execution_count": 91
    }
   ],
   "metadata": {}
  },
  {
   "cell_type": "code",
   "execution_count": 92,
   "source": [
    "print(p.resolve())\n",
    "p.resolve().samefile(p)\n"
   ],
   "outputs": [
    {
     "output_type": "stream",
     "name": "stdout",
     "text": [
      "/mnt/c/repos/python_repos/calmcode-playground/pathlib_module/settings/config.json\n"
     ]
    },
    {
     "output_type": "execute_result",
     "data": {
      "text/plain": [
       "True"
      ]
     },
     "metadata": {},
     "execution_count": 92
    }
   ],
   "metadata": {}
  },
  {
   "cell_type": "code",
   "execution_count": 93,
   "source": [
    "p.suffix"
   ],
   "outputs": [
    {
     "output_type": "execute_result",
     "data": {
      "text/plain": [
       "'.json'"
      ]
     },
     "metadata": {},
     "execution_count": 93
    }
   ],
   "metadata": {}
  },
  {
   "cell_type": "code",
   "execution_count": 94,
   "source": [
    "path_to = pathlib.Path(\"data\", \"configuration.json\")"
   ],
   "outputs": [],
   "metadata": {}
  },
  {
   "cell_type": "code",
   "execution_count": 95,
   "source": [
    "p.rename(path_to)"
   ],
   "outputs": [
    {
     "output_type": "execute_result",
     "data": {
      "text/plain": [
       "PosixPath('data/configuration.json')"
      ]
     },
     "metadata": {},
     "execution_count": 95
    }
   ],
   "metadata": {}
  },
  {
   "cell_type": "code",
   "execution_count": 96,
   "source": [
    "text = json.dumps(d)\n",
    "pathlib.Path(\"data\", \"config-1.json\").write_text(text)"
   ],
   "outputs": [
    {
     "output_type": "execute_result",
     "data": {
      "text/plain": [
       "31"
      ]
     },
     "metadata": {},
     "execution_count": 96
    }
   ],
   "metadata": {}
  },
  {
   "cell_type": "code",
   "execution_count": 97,
   "source": [
    "def create_json(value):\n",
    "    return json.dumps({\"number\": value})\n",
    "\n",
    "create_json(2)"
   ],
   "outputs": [
    {
     "output_type": "execute_result",
     "data": {
      "text/plain": [
       "'{\"number\": 2}'"
      ]
     },
     "metadata": {},
     "execution_count": 97
    }
   ],
   "metadata": {}
  },
  {
   "cell_type": "code",
   "execution_count": 98,
   "source": [
    "from pathlib import Path\n",
    "for folder in range(3):\n",
    "    for filename in range(2):\n",
    "        p = Path(\"data\", f\"f-{folder}\", f\"file-{filename}.json\")\n",
    "        if not p.parent.exists():\n",
    "            p.parent.mkdir()\n",
    "        p.write_text(create_json(folder * filename))\n",
    "        print(p)\n"
   ],
   "outputs": [
    {
     "output_type": "stream",
     "name": "stdout",
     "text": [
      "data/f-0/file-0.json\n",
      "data/f-0/file-1.json\n",
      "data/f-1/file-0.json\n",
      "data/f-1/file-1.json\n",
      "data/f-2/file-0.json\n",
      "data/f-2/file-1.json\n"
     ]
    }
   ],
   "metadata": {}
  },
  {
   "cell_type": "code",
   "execution_count": 99,
   "source": [
    "Path(), Path.cwd()\n",
    "[(_.parent, _) for _ in Path().glob(\"data/*/*.json\")]"
   ],
   "outputs": [
    {
     "output_type": "execute_result",
     "data": {
      "text/plain": [
       "[(PosixPath('data/f-0'), PosixPath('data/f-0/file-0.json')),\n",
       " (PosixPath('data/f-0'), PosixPath('data/f-0/file-1.json')),\n",
       " (PosixPath('data/f-1'), PosixPath('data/f-1/file-0.json')),\n",
       " (PosixPath('data/f-1'), PosixPath('data/f-1/file-1.json')),\n",
       " (PosixPath('data/f-2'), PosixPath('data/f-2/file-0.json')),\n",
       " (PosixPath('data/f-2'), PosixPath('data/f-2/file-1.json'))]"
      ]
     },
     "metadata": {},
     "execution_count": 99
    }
   ],
   "metadata": {}
  },
  {
   "cell_type": "code",
   "execution_count": null,
   "source": [],
   "outputs": [],
   "metadata": {}
  }
 ],
 "metadata": {
  "orig_nbformat": 4,
  "language_info": {
   "name": "python",
   "version": "3.8.11",
   "mimetype": "text/x-python",
   "codemirror_mode": {
    "name": "ipython",
    "version": 3
   },
   "pygments_lexer": "ipython3",
   "nbconvert_exporter": "python",
   "file_extension": ".py"
  },
  "kernelspec": {
   "name": "python3",
   "display_name": "Python 3.8.11 64-bit ('calmcode': conda)"
  },
  "interpreter": {
   "hash": "1e68bac4bcd0bfd7201d92b45884a6180c40a81991b089cb7df07f62222ab7ee"
  }
 },
 "nbformat": 4,
 "nbformat_minor": 2
}